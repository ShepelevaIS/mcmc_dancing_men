{
 "cells": [
  {
   "cell_type": "code",
   "execution_count": 1,
   "id": "9a6d70ae",
   "metadata": {
    "ExecuteTime": {
     "end_time": "2022-05-17T21:32:18.167053Z",
     "start_time": "2022-05-17T21:32:13.194040Z"
    }
   },
   "outputs": [],
   "source": [
    "import nltk\n",
    "import numpy as np\n",
    "import pandas as pd\n",
    "import re\n",
    "from tqdm import tqdm\n",
    "\n",
    "from collections import Counter\n",
    "from nltk.tokenize import RegexpTokenizer\n",
    "\n",
    "tokenizer = RegexpTokenizer(r'\\w+')  "
   ]
  },
  {
   "cell_type": "markdown",
   "id": "73593dbc",
   "metadata": {},
   "source": [
    "## Task 1: frequency approach"
   ]
  },
  {
   "cell_type": "markdown",
   "id": "fc915aef",
   "metadata": {},
   "source": [
    "#### Зашифруем произведение целиком"
   ]
  },
  {
   "cell_type": "code",
   "execution_count": 2,
   "id": "0fa2f3a2",
   "metadata": {
    "ExecuteTime": {
     "end_time": "2022-05-17T21:32:18.834610Z",
     "start_time": "2022-05-17T21:32:18.172338Z"
    }
   },
   "outputs": [],
   "source": [
    "text_no_punct = []\n",
    "file_name = 'AnnaKarenina.txt'\n",
    "with open(file_name, 'r', encoding='utf-8') as f_in:\n",
    "    for line in f_in:\n",
    "        line_preprocessed = re.sub(r'[0-9]+', '', line.lower())\n",
    "        text_no_punct.extend(tokenizer.tokenize(line_preprocessed))\n",
    "    \n",
    "text_no_punct = [token for token in text_no_punct if token]    \n",
    "input_text = ' '.join(text_no_punct)"
   ]
  },
  {
   "cell_type": "code",
   "execution_count": 3,
   "id": "f5ccafd1",
   "metadata": {
    "ExecuteTime": {
     "end_time": "2022-05-17T21:32:18.865602Z",
     "start_time": "2022-05-17T21:32:18.840626Z"
    }
   },
   "outputs": [],
   "source": [
    "from copy import copy\n",
    "\n",
    "def transposition_encoding(text):\n",
    "    symbols = list(set(text))\n",
    "    permutation = np.random.permutation(symbols)\n",
    "    mapping = dict(zip(symbols, permutation))\n",
    "    result = [mapping[symbol] for symbol in text]\n",
    "    return ''.join(result)"
   ]
  },
  {
   "cell_type": "code",
   "execution_count": 4,
   "id": "5a970d95",
   "metadata": {
    "ExecuteTime": {
     "end_time": "2022-05-17T21:32:19.671259Z",
     "start_time": "2022-05-17T21:32:18.871378Z"
    }
   },
   "outputs": [
    {
     "data": {
      "text/plain": [
       "'чwwzéчémzwгkddkгrkfldcdkгnёcdгcмгьkóîсгмdkóldcъîсг'"
      ]
     },
     "execution_count": 4,
     "metadata": {},
     "output_type": "execute_result"
    }
   ],
   "source": [
    "text_encoded = transposition_encoding(input_text)\n",
    "text_encoded[:50]"
   ]
  },
  {
   "cell_type": "markdown",
   "id": "547868e8",
   "metadata": {},
   "source": [
    "### Frequencies"
   ]
  },
  {
   "cell_type": "code",
   "execution_count": 5,
   "id": "499173a4",
   "metadata": {
    "ExecuteTime": {
     "end_time": "2022-05-17T21:32:21.690358Z",
     "start_time": "2022-05-17T21:32:19.674023Z"
    }
   },
   "outputs": [
    {
     "name": "stdout",
     "output_type": "stream",
     "text": [
      "['г' 'n' 'l' 'k' 'd' 'c' 'ъ' 'ь' 'à' 'ý' 'f' 'r' 'ё' 'ó' 'á' 'и' 'в' 'о'\n",
      " 'î' 'е' 'v' 'л' 'м' 'э' 'i' 'ц' 'с' 'x' 'ф' ' ' 'ш' 'у' 'e' 'm' 'ч' 'п'\n",
      " 'w' 'ü' 'ж' 'н' 'g' 'é' 'z' 'х' 'ä' 'к' 'щ' 'д' 'o' 'y' 'ю' 'з' 'b' 'è'\n",
      " 'ї' 'u' 'j' 'â' 'q' 'т' 'й' 'б' 'я' 'a' 'h' 't' 'ç' 'а' 'ы' 'p' 'р' 'ê'\n",
      " 's']\n",
      "[' ' 'о' 'е' 'а' 'н' 'и' 'т' 'с' 'л' 'в' 'р' 'к' 'д' 'м' 'у' 'п' 'я' 'ь'\n",
      " 'ы' 'г' 'б' 'ч' 'з' 'ж' 'й' 'ш' 'х' 'ю' 'э' 'щ' 'ц' 'ф' 'e' 'i' 'a' 'ъ'\n",
      " 'n' 's' 'x' 'l' 'r' 't' 'o' 'm' 'u' 'd' 'c' 'v' 'p' 'h' 'b' 'f' 'g' 'ó'\n",
      " 'é' 'z' 'ё' 'j' 'q' 'y' 'w' 'è' 'k' 'á' 'â' 'ç' 'ý' 'à' 'ü' 'î' 'ê' 'ї'\n",
      " 'ä']\n",
      "Исходный текст: annotation анна каренина один из самых знаменитых \n",
      "Исходный зашифрованный: чwwzéчémzwгkddkгrkfldcdkгnёcdгcмгьkóîсгмdkóldcъîсг\n",
      "Расшифрованный текст: annotation анна каренина один из самых знаменитых \n"
     ]
    }
   ],
   "source": [
    "text_no_punct = []\n",
    "  \n",
    "    \n",
    "file_name = 'AnnaKarenina.txt'\n",
    "with open(file_name, 'r', encoding='utf-8') as f_in:\n",
    "    for line in f_in:\n",
    "        line_preprocessed = re.sub(r'[0-9]+', '', line.lower())\n",
    "        text_no_punct.extend(tokenizer.tokenize(line_preprocessed))\n",
    "    \n",
    "text_no_punct = [token for token in text_no_punct if token]    \n",
    "text_filtered = ' '.join(text_no_punct)\n",
    "\n",
    "def get_symbols(text):\n",
    "    alphabet = Counter(text)\n",
    "    return np.array([symbol for symbol, count in alphabet.most_common()])\n",
    "\n",
    "source_symbols = get_symbols(text_encoded)\n",
    "print(source_symbols)\n",
    "\n",
    "target_symbols = get_symbols(text_filtered)\n",
    "print(target_symbols)\n",
    "\n",
    "mapping = dict(zip(source_symbols, target_symbols))\n",
    "\n",
    "result = []\n",
    "for x in text_encoded:\n",
    "    result.append(mapping.get(x, \"-\"))\n",
    "result = \"\".join(result)\n",
    "\n",
    "print(f'Исходный текст: {input_text[:50]}')\n",
    "print(f'Исходный зашифрованный: {text_encoded[:50]}')\n",
    "print(f'Расшифрованный текст: {result[:50]}')"
   ]
  },
  {
   "cell_type": "markdown",
   "id": "a43c1396",
   "metadata": {},
   "source": [
    "Частотный метод на символах помогает расшифровать, только если подать полный текст произведения."
   ]
  },
  {
   "cell_type": "markdown",
   "id": "077510fc",
   "metadata": {
    "ExecuteTime": {
     "end_time": "2022-05-17T12:42:16.606604Z",
     "start_time": "2022-05-17T12:42:16.599438Z"
    }
   },
   "source": [
    "## Task 2: bigrams"
   ]
  },
  {
   "cell_type": "markdown",
   "id": "afb29601",
   "metadata": {},
   "source": [
    "#### source bigrams"
   ]
  },
  {
   "cell_type": "code",
   "execution_count": 6,
   "id": "02a09880",
   "metadata": {
    "ExecuteTime": {
     "end_time": "2022-05-17T21:32:21.706259Z",
     "start_time": "2022-05-17T21:32:21.693201Z"
    }
   },
   "outputs": [],
   "source": [
    "def get_bigrams(text):\n",
    "    counter = Counter()\n",
    "    for i in range(len(text) - 1):\n",
    "        counter[text[i:i+2]] += 1\n",
    "    return np.array([symbol for symbol, count in counter.most_common()])"
   ]
  },
  {
   "cell_type": "markdown",
   "id": "a4683a4a",
   "metadata": {
    "ExecuteTime": {
     "end_time": "2022-05-17T21:25:42.171337Z",
     "start_time": "2022-05-17T21:25:42.153641Z"
    }
   },
   "source": [
    "#### На части текста"
   ]
  },
  {
   "cell_type": "code",
   "execution_count": 7,
   "id": "8bf92912",
   "metadata": {
    "ExecuteTime": {
     "end_time": "2022-05-17T21:32:24.622408Z",
     "start_time": "2022-05-17T21:32:21.710406Z"
    }
   },
   "outputs": [
    {
     "name": "stdout",
     "output_type": "stream",
     "text": [
      "['ьъ' 'nг' 'kг' 'гь' 'dk' 'гn' 'ъn' 'lг' 'cd' 'сг' 'nó' 'гd' 'вг' 'ьl'\n",
      " 'ló' 'ýl' 'kd' 'гr' 'ld' 'dc' 'îс' 'fn' 'гà' 'ýk' 'гý' 'ьл' 'лk' 'kь'\n",
      " 'ъà' 'àc' 'cý' 'óо' 'cг' 'гё' 'lь' 'гk' 'dd' 'rk' 'fl' 'dг' 'cм' 'kó'\n",
      " 'ók' 'dn' 'ný' 'ýг' 'гъ' 'nà' 'àь' 'iг' 'óг' 'ni' 'ги' 'иn' 'ёf' 'fá'\n",
      " 'áе' 'еk' 'kв' 'dl' 'lл' 'nь' 'лl' 'rn' 'чw' 'ww' 'wz' 'zé' 'éч' 'чé'\n",
      " 'ém' 'mz' 'zw' 'wг' 'kf' 'nё' 'ёc' 'гc' 'мг' 'ьk' 'óî' 'гм' 'мd' 'ól'\n",
      " 'cъ' 'ъî' 'гf' 'àо' 'оý' 'nе' 'еn' 'kл' 'лc' 'kl' 'lъ' 'ъь' 'ьв' 'ъk'\n",
      " 'ký' 'ýц' 'цl' 'li' 'kу' 'уn' 'nf' 'fc' 'мó' 'ón' 'гу' 'уf' 'fk' 'kм'\n",
      " 'мn' 'ýь' 'ýî' 'îl' 'оc' 'nс' 'сn' 'nэ' 'эc' 'ег' 'kэ' 'эё' 'ёk' 'ов'\n",
      " 'ьý' 'ýn' 'nl' 'óá' 'áг' 'гф' 'фъ' 'rd' 'cе' 'лd' 'dî' 'гш' 'шl' 'ъв'\n",
      " 'вс' 'àx' 'xv' 'vý' 'ýc' 'lf' 'оl' 'гл' 'là' 'àn' 'ьr' 'ёn' 'nc' 'dь'\n",
      " 'ъý' 'àl' 'lý' 'if' 'гц' 'цc' 'cf' 'nr']\n",
      "[' ' 'о' 'е' 'а' 'н' 'и' 'т' 'с' 'л' 'в' 'р' 'к' 'д' 'м' 'у' 'п' 'я' 'ь'\n",
      " 'ы' 'г' 'б' 'ч' 'з' 'ж' 'й' 'ш' 'х' 'ю' 'э' 'щ' 'ц' 'ф' 'e' 'i' 'a' 'ъ'\n",
      " 'n' 's' 'x' 'l' 'r' 't' 'o' 'm' 'u' 'd' 'c' 'v' 'p' 'h' 'b' 'f' 'g' 'ó'\n",
      " 'é' 'z' 'ё' 'j' 'q' 'y' 'w' 'è' 'k' 'á' 'â' 'ç' 'ý' 'à' 'ü' 'î' 'ê' 'ї'\n",
      " 'ä']\n",
      "Исходный текст: annotation анна каренина один из самых знаменитых \n",
      "Исходный зашифрованный: чwwzéчémzwгkddkгrkfldcdkгnёcdгcмгьkóîсгмdkóldcъîсг\n",
      "Расшифрованный текст: видеетилт рисечтвеы рано б на алу да ч к т п на  с\n"
     ]
    }
   ],
   "source": [
    "text_encoded_part = text_encoded[:300]\n",
    "source_bigrams = get_bigrams(text_encoded_part)\n",
    "print(source_bigrams)\n",
    "target_bigrams = get_bigrams(text_filtered)\n",
    "print(target_symbols)\n",
    "\n",
    "mapping = dict(zip(source_bigrams, target_bigrams))\n",
    "\n",
    "result = []\n",
    "window = 2\n",
    "for i in range(0, len(text_encoded)):\n",
    "    substring = text_encoded[i:i + window]\n",
    "    result.append(mapping.get(substring, \"-\"))\n",
    "result = \"\".join(result)\n",
    "\n",
    "print(f'Исходный текст: {input_text[:50]}')\n",
    "print(f'Исходный зашифрованный: {text_encoded[:50]}')\n",
    "print(f'Расшифрованный текст: {result[:50]}')"
   ]
  },
  {
   "cell_type": "markdown",
   "id": "273bfbc9",
   "metadata": {},
   "source": [
    "#### На полном тексте"
   ]
  },
  {
   "cell_type": "code",
   "execution_count": 8,
   "id": "04194bc0",
   "metadata": {
    "ExecuteTime": {
     "end_time": "2022-05-17T21:32:27.814797Z",
     "start_time": "2022-05-17T21:32:24.626269Z"
    }
   },
   "outputs": [
    {
     "name": "stdout",
     "output_type": "stream",
     "text": [
      "['nг' 'lг' 'kг' ... 'cф' 'ey' 'ró']\n",
      "[' ' 'о' 'е' 'а' 'н' 'и' 'т' 'с' 'л' 'в' 'р' 'к' 'д' 'м' 'у' 'п' 'я' 'ь'\n",
      " 'ы' 'г' 'б' 'ч' 'з' 'ж' 'й' 'ш' 'х' 'ю' 'э' 'щ' 'ц' 'ф' 'e' 'i' 'a' 'ъ'\n",
      " 'n' 's' 'x' 'l' 'r' 't' 'o' 'm' 'u' 'd' 'c' 'v' 'p' 'h' 'b' 'f' 'g' 'ó'\n",
      " 'é' 'z' 'ё' 'j' 'q' 'y' 'w' 'è' 'k' 'á' 'â' 'ç' 'ý' 'à' 'ü' 'î' 'ê' 'ї'\n",
      " 'ä']\n"
     ]
    }
   ],
   "source": [
    "source_bigrams = get_bigrams(text_encoded)\n",
    "print(source_bigrams)\n",
    "target_bigrams = get_bigrams(text_filtered)\n",
    "print(target_symbols)\n",
    "\n",
    "mapping = dict(zip(source_bigrams, target_bigrams))\n",
    "\n",
    "result = []\n",
    "window = 2\n",
    "for i in range(0, len(text_encoded), 2):\n",
    "    substring = text_encoded[i:i + window]\n",
    "    result.append(mapping.get(substring, \"-\"))\n",
    "result = \"\".join(result)"
   ]
  },
  {
   "cell_type": "code",
   "execution_count": 9,
   "id": "67a75472",
   "metadata": {
    "ExecuteTime": {
     "end_time": "2022-05-17T21:32:27.845309Z",
     "start_time": "2022-05-17T21:32:27.819307Z"
    }
   },
   "outputs": [
    {
     "name": "stdout",
     "output_type": "stream",
     "text": [
      "Исходный текст: annotation анна каренина один из самых знаменитых \n",
      "Исходный зашифрованный: чwwzéчémzwгkddkгrkfldcdkгnёcdгcмгьkóîсгмdkóldcъîсг\n",
      "Расшифрованный текст: annotation анна каренина один из самых знаменитых \n"
     ]
    }
   ],
   "source": [
    "print(f'Исходный текст: {input_text[:50]}')\n",
    "print(f'Исходный зашифрованный: {text_encoded[:50]}')\n",
    "print(f'Расшифрованный текст: {result[:50]}')"
   ]
  },
  {
   "cell_type": "markdown",
   "id": "9720cb67",
   "metadata": {},
   "source": [
    "Частотный метод на биграммах помогает расшифровать, только если подать полный текст произведения."
   ]
  },
  {
   "cell_type": "markdown",
   "id": "07d5b3bf",
   "metadata": {},
   "source": [
    "## Task 3: MCMC"
   ]
  },
  {
   "cell_type": "code",
   "execution_count": 13,
   "id": "4e25610f",
   "metadata": {
    "ExecuteTime": {
     "end_time": "2022-05-17T21:34:49.368333Z",
     "start_time": "2022-05-17T21:34:49.343679Z"
    }
   },
   "outputs": [],
   "source": [
    "class MetropolisHastings:\n",
    "    def __init__(self):\n",
    "        self.input_text = ''\n",
    "        self.target_symbols = []\n",
    "        self.transition_matrix = {}\n",
    "        self.source_symbols = []\n",
    "        self.mapping = {}\n",
    "        self.mapping_best = {}\n",
    "        self.log_prob = 0\n",
    "        self.best_log_prob = 0\n",
    "        \n",
    "    def update(self, mapping):\n",
    "        self.mapping = mapping\n",
    "        self.log_prob = self.loglikelihood(mapping)\n",
    "        \n",
    "    def update_best(self):\n",
    "        self.mapping_best = self.mapping.copy()\n",
    "        self.best_log_prob = self.log_prob\n",
    "\n",
    "    @staticmethod\n",
    "    def build(input_text, transition_matrix, target_symbols):\n",
    "        result = MetropolisHastings()\n",
    "        result.input_text = input_text\n",
    "        result.transition_matrix = transition_matrix\n",
    "        result.target_symbols = target_symbols\n",
    "        \n",
    "        counter = Counter(input_text)\n",
    "        result.source_symbols = [symbol for symbol, count in counter.most_common()]\n",
    "        result.update(dict(zip(result.source_symbols, result.target_symbols)))\n",
    "        result.update_best()\n",
    "        return result\n",
    "\n",
    "    def loglikelihood(self, mapping):\n",
    "        result = 0.0\n",
    "        for symbol_first, symbol_second in zip(self.input_text[:-1], self.input_text[1:]):\n",
    "            bigram = f'{mapping[symbol_first]}{mapping[symbol_second]}'\n",
    "            result += self.transition_matrix.get(bigram, -10.0) # -10 - логарифм низкой вероятности\n",
    "        return result\n",
    "    \n",
    "    def swap_symbols(self):\n",
    "        symbol_first, symbol_second = np.random.choice(self.source_symbols, 2, replace=False)\n",
    "        result = self.mapping.copy()\n",
    "        result[symbol_first], result[symbol_second] = result[symbol_second], result[symbol_first]\n",
    "        return result\n",
    "    \n",
    "    def step(self):\n",
    "        mapping_new = self.swap_symbols()\n",
    "        prev_prob = self.log_prob\n",
    "        new_prob = self.loglikelihood(mapping_new)\n",
    "        if new_prob > prev_prob or np.log(np.random.rand()) < new_prob - prev_prob:\n",
    "            self.update(mapping_new)\n",
    "            if self.log_prob > self.best_log_prob:\n",
    "                self.update_best()\n",
    "        return\n",
    "    \n",
    "    def run(self, num_steps, early_stopping_rounds=100):\n",
    "        last_improvement = 0\n",
    "        for step in tqdm(range(num_steps)):\n",
    "            prev_best = self.best_log_prob\n",
    "            self.step()\n",
    "            if self.best_log_prob > prev_best:\n",
    "                last_improvement = 0\n",
    "            else:\n",
    "                last_improvement += 1\n",
    "            if last_improvement >= early_stopping_rounds:\n",
    "                break\n",
    "        return\n",
    "\n",
    "    def decode(self):\n",
    "        return ''.join(self.mapping_best[symbol] for symbol in self.input_text)  "
   ]
  },
  {
   "cell_type": "code",
   "execution_count": 14,
   "id": "8b25b846",
   "metadata": {
    "ExecuteTime": {
     "end_time": "2022-05-17T21:34:49.773550Z",
     "start_time": "2022-05-17T21:34:49.761625Z"
    }
   },
   "outputs": [],
   "source": [
    "def get_bigrams_with_count(text):\n",
    "    counter = Counter()\n",
    "    for i in range(len(text) - 1):\n",
    "        counter[text[i:i+2]] += 1\n",
    "    return np.array([symbol for symbol, count in counter.most_common()]), np.array([count for symbol, count in counter.most_common()])"
   ]
  },
  {
   "cell_type": "code",
   "execution_count": 16,
   "id": "e52d585b",
   "metadata": {
    "ExecuteTime": {
     "end_time": "2022-05-17T21:35:00.817741Z",
     "start_time": "2022-05-17T21:34:56.732482Z"
    }
   },
   "outputs": [
    {
     "name": "stderr",
     "output_type": "stream",
     "text": [
      "  1%|          | 5256/500000 [00:02<04:22, 1883.65it/s]\n"
     ]
    },
    {
     "data": {
      "text/plain": [
       "'если вы вимите норжальный или подти норжальный текст у чтого сообшения который легко продитать скорее всего вы все смелали правильно и полудите жаксижальный балл за послемнее детвертое замание курса хотя конедно я нидего не обешаю'"
      ]
     },
     "execution_count": 16,
     "metadata": {},
     "output_type": "execute_result"
    }
   ],
   "source": [
    "target_str_encoded = \"←⇠⇒↟↹↷⇊↹↷↟↤↟↨←↹↝⇛⇯↳⇴⇒⇈↝⇊↾↹↟⇒↟↹⇷⇛⇞↨↟↹↝⇛⇯↳⇴⇒⇈↝⇊↾↹↨←⇌⇠↨↹⇙↹⇸↨⇛↙⇛↹⇠⇛⇛↲⇆←↝↟↞↹⇌⇛↨⇛⇯⇊↾↹⇒←↙⇌⇛↹⇷⇯⇛⇞↟↨⇴↨⇈↹⇠⇌⇛⇯←←↹↷⇠←↙⇛↹↷⇊↹↷⇠←↹⇠↤←⇒⇴⇒↟↹⇷⇯⇴↷↟⇒⇈↝⇛↹↟↹⇷⇛⇒⇙⇞↟↨←↹↳⇴⇌⇠↟↳⇴⇒⇈↝⇊↾↹↲⇴⇒⇒↹⇰⇴↹⇷⇛⇠⇒←↤↝←←↹⇞←↨↷←⇯↨⇛←↹⇰⇴↤⇴↝↟←↹⇌⇙⇯⇠⇴↹↘⇛↨↞↹⇌⇛↝←⇞↝⇛↹↞↹↝↟⇞←↙⇛↹↝←↹⇛↲←⇆⇴⇏\"\n",
    "\n",
    "target_bigrams, target_counts = get_bigrams_with_count(text_filtered)\n",
    "transition_matrix = dict(zip(target_bigrams, np.log(target_counts / target_counts.sum())))\n",
    "\n",
    "decoder = MetropolisHastings.build(target_str_encoded, transition_matrix, target_symbols)\n",
    "decoder.run(500000, early_stopping_rounds=1000)\n",
    "decoder.decode()"
   ]
  }
 ],
 "metadata": {
  "kernelspec": {
   "display_name": "Python 3 (ipykernel)",
   "language": "python",
   "name": "python3"
  },
  "language_info": {
   "codemirror_mode": {
    "name": "ipython",
    "version": 3
   },
   "file_extension": ".py",
   "mimetype": "text/x-python",
   "name": "python",
   "nbconvert_exporter": "python",
   "pygments_lexer": "ipython3",
   "version": "3.9.7"
  },
  "toc": {
   "base_numbering": 1,
   "nav_menu": {},
   "number_sections": true,
   "sideBar": true,
   "skip_h1_title": false,
   "title_cell": "Table of Contents",
   "title_sidebar": "Contents",
   "toc_cell": false,
   "toc_position": {},
   "toc_section_display": true,
   "toc_window_display": false
  },
  "varInspector": {
   "cols": {
    "lenName": 16,
    "lenType": 16,
    "lenVar": 40
   },
   "kernels_config": {
    "python": {
     "delete_cmd_postfix": "",
     "delete_cmd_prefix": "del ",
     "library": "var_list.py",
     "varRefreshCmd": "print(var_dic_list())"
    },
    "r": {
     "delete_cmd_postfix": ") ",
     "delete_cmd_prefix": "rm(",
     "library": "var_list.r",
     "varRefreshCmd": "cat(var_dic_list()) "
    }
   },
   "types_to_exclude": [
    "module",
    "function",
    "builtin_function_or_method",
    "instance",
    "_Feature"
   ],
   "window_display": false
  }
 },
 "nbformat": 4,
 "nbformat_minor": 5
}
